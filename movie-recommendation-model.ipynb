{
 "cells": [
  {
   "cell_type": "code",
   "execution_count": 1,
   "metadata": {
    "_cell_guid": "b1076dfc-b9ad-4769-8c92-a6c4dae69d19",
    "_kg_hide-input": true,
    "_kg_hide-output": true,
    "_uuid": "8f2839f25d086af736a60e9eeb907d3b93b6e0e5",
    "execution": {
     "iopub.execute_input": "2020-10-23T10:21:52.378575Z",
     "iopub.status.busy": "2020-10-23T10:21:52.377558Z",
     "iopub.status.idle": "2020-10-23T10:21:52.387678Z",
     "shell.execute_reply": "2020-10-23T10:21:52.386813Z"
    },
    "papermill": {
     "duration": 0.064283,
     "end_time": "2020-10-23T10:21:52.387854",
     "exception": false,
     "start_time": "2020-10-23T10:21:52.323571",
     "status": "completed"
    },
    "tags": []
   },
   "outputs": [
    {
     "name": "stdout",
     "output_type": "stream",
     "text": [
      "/kaggle/input/imdb-top-800-moviescsv/imdb_top_800_movies.csv\n",
      "/kaggle/input/cleaned/imdb_top_800_cleaned.csv\n"
     ]
    }
   ],
   "source": [
    "# This Python 3 environment comes with many helpful analytics libraries installed\n",
    "# It is defined by the kaggle/python Docker image: https://github.com/kaggle/docker-python\n",
    "# For example, here's several helpful packages to load\n",
    "\n",
    "import numpy as np # linear algebra\n",
    "\n",
    "# Input data files are available in the read-only \"../input/\" directory\n",
    "# For example, running this (by clicking run or pressing Shift+Enter) will list all files under the input directory\n",
    "\n",
    "import os\n",
    "for dirname, _, filenames in os.walk('/kaggle/input/'):\n",
    "    for filename in filenames:\n",
    "        print(os.path.join(dirname, filename))\n",
    "\n",
    "# You can write up to 5GB to the current directory (/kaggle/working/) that gets preserved as output when you create a version using \"Save & Run All\" \n",
    "# You can also write temporary files to /kaggle/temp/, but they won't be saved outside of the current session"
   ]
  },
  {
   "cell_type": "markdown",
   "metadata": {
    "papermill": {
     "duration": 0.044647,
     "end_time": "2020-10-23T10:21:52.478372",
     "exception": false,
     "start_time": "2020-10-23T10:21:52.433725",
     "status": "completed"
    },
    "tags": []
   },
   "source": [
    "# <span style=\"color:DarkCyan\">**Movie Recommendation Model**<span>"
   ]
  },
  {
   "cell_type": "markdown",
   "metadata": {
    "_cell_guid": "79c7e3d0-c299-4dcb-8224-4455121ee9b0",
    "_uuid": "d629ff2d2480ee46fbb7e2d37f6b5fab8052498a",
    "collapsed": true,
    "papermill": {
     "duration": 0.043485,
     "end_time": "2020-10-23T10:21:52.565681",
     "exception": false,
     "start_time": "2020-10-23T10:21:52.522196",
     "status": "completed"
    },
    "tags": []
   },
   "source": [
    "![](https://www.reliancedigital.in/wp-content/uploads/2019/02/netflix_movies_cover.jpg)"
   ]
  },
  {
   "cell_type": "markdown",
   "metadata": {
    "papermill": {
     "duration": 0.044035,
     "end_time": "2020-10-23T10:21:52.653958",
     "exception": false,
     "start_time": "2020-10-23T10:21:52.609923",
     "status": "completed"
    },
    "tags": []
   },
   "source": [
    "# <span style=\"color:DarkCyan\">**Content**<span>\n",
    "- [Introduction](#Introduction) <a href = '#Introduction'></a>\n",
    "- [Web Scraping](#Web-Scraping) <a href = '#Web-Scraping'></a>   \n",
    "- [Data](#Data) <a href = '#Data'></a>\n",
    "- [Loading Data](#Loading-Data) <a href = '#Loading-Data'></a>\n",
    "- [Model](#Model) <a href = '#Model'></a>\n",
    "- [Features](#Features) <a href = '#Features'></a>\n",
    "- [Conclusion](#Conclusion) <a href = '#Conclusion'></a>"
   ]
  },
  {
   "cell_type": "markdown",
   "metadata": {
    "papermill": {
     "duration": 0.043717,
     "end_time": "2020-10-23T10:21:52.741777",
     "exception": false,
     "start_time": "2020-10-23T10:21:52.698060",
     "status": "completed"
    },
    "tags": []
   },
   "source": [
    "# <span style=\"color:DarkCyan\">**<a id='Introduction'>Introduction</a>**<span>"
   ]
  },
  {
   "cell_type": "markdown",
   "metadata": {
    "papermill": {
     "duration": 0.043437,
     "end_time": "2020-10-23T10:21:52.828927",
     "exception": false,
     "start_time": "2020-10-23T10:21:52.785490",
     "status": "completed"
    },
    "tags": []
   },
   "source": [
    "Recommendation Systems in the world of machine learning have become very popular and are a huge advantage to tech giants like Netflix, Amazon and many more to target their content to a specific audience. \n",
    "\n",
    "These recommendation engines are so strong in their predictions that they can dynamically alter the state of what the user sees on their page based on the user’s interaction with the app"
   ]
  },
  {
   "cell_type": "markdown",
   "metadata": {
    "papermill": {
     "duration": 0.043302,
     "end_time": "2020-10-23T10:21:52.916030",
     "exception": false,
     "start_time": "2020-10-23T10:21:52.872728",
     "status": "completed"
    },
    "tags": []
   },
   "source": [
    "# <span style=\"color:DarkCyan\">**<a id='Web-Scraping'>Web Scraping</a>**<span>"
   ]
  },
  {
   "cell_type": "markdown",
   "metadata": {
    "papermill": {
     "duration": 0.044282,
     "end_time": "2020-10-23T10:21:53.004566",
     "exception": false,
     "start_time": "2020-10-23T10:21:52.960284",
     "status": "completed"
    },
    "tags": []
   },
   "source": [
    "The dataset we’ll use in this project is scraped from imdb.com.\n",
    "\n",
    "My choice of web scraper tool for this project is Selenium.\n",
    "\n",
    "I can't run the script on Kaggle. But I'll leave the script for you to see how I got the data."
   ]
  },
  {
   "cell_type": "code",
   "execution_count": 2,
   "metadata": {
    "_kg_hide-output": true,
    "collapsed": true,
    "execution": {
     "iopub.execute_input": "2020-10-23T10:21:53.126968Z",
     "iopub.status.busy": "2020-10-23T10:21:53.119559Z",
     "iopub.status.idle": "2020-10-23T10:21:53.166424Z",
     "shell.execute_reply": "2020-10-23T10:21:53.165565Z"
    },
    "papermill": {
     "duration": 0.11622,
     "end_time": "2020-10-23T10:21:53.166576",
     "exception": false,
     "start_time": "2020-10-23T10:21:53.050356",
     "status": "completed"
    },
    "tags": []
   },
   "outputs": [
    {
     "ename": "ModuleNotFoundError",
     "evalue": "No module named 'selenium'",
     "output_type": "error",
     "traceback": [
      "\u001b[0;31m---------------------------------------------------------------------------\u001b[0m",
      "\u001b[0;31mModuleNotFoundError\u001b[0m                       Traceback (most recent call last)",
      "\u001b[0;32m<ipython-input-2-a6a530cb1783>\u001b[0m in \u001b[0;36m<module>\u001b[0;34m\u001b[0m\n\u001b[0;32m----> 1\u001b[0;31m \u001b[0;32mfrom\u001b[0m \u001b[0mselenium\u001b[0m \u001b[0;32mimport\u001b[0m \u001b[0mwebdriver\u001b[0m\u001b[0;34m\u001b[0m\u001b[0;34m\u001b[0m\u001b[0m\n\u001b[0m\u001b[1;32m      2\u001b[0m \u001b[0;32mfrom\u001b[0m \u001b[0mselenium\u001b[0m\u001b[0;34m.\u001b[0m\u001b[0mwebdriver\u001b[0m\u001b[0;34m.\u001b[0m\u001b[0mcommon\u001b[0m\u001b[0;34m.\u001b[0m\u001b[0mby\u001b[0m \u001b[0;32mimport\u001b[0m \u001b[0mBy\u001b[0m\u001b[0;34m\u001b[0m\u001b[0;34m\u001b[0m\u001b[0m\n\u001b[1;32m      3\u001b[0m \u001b[0;32mfrom\u001b[0m \u001b[0mselenium\u001b[0m\u001b[0;34m.\u001b[0m\u001b[0mwebdriver\u001b[0m\u001b[0;34m.\u001b[0m\u001b[0msupport\u001b[0m\u001b[0;34m.\u001b[0m\u001b[0mui\u001b[0m \u001b[0;32mimport\u001b[0m \u001b[0mWebDriverWait\u001b[0m\u001b[0;34m\u001b[0m\u001b[0;34m\u001b[0m\u001b[0m\n\u001b[1;32m      4\u001b[0m \u001b[0;32mfrom\u001b[0m \u001b[0mselenium\u001b[0m\u001b[0;34m.\u001b[0m\u001b[0mwebdriver\u001b[0m\u001b[0;34m.\u001b[0m\u001b[0msupport\u001b[0m \u001b[0;32mimport\u001b[0m \u001b[0mexpected_conditions\u001b[0m \u001b[0;32mas\u001b[0m \u001b[0mEC\u001b[0m\u001b[0;34m\u001b[0m\u001b[0;34m\u001b[0m\u001b[0m\n\u001b[1;32m      5\u001b[0m \u001b[0;32mimport\u001b[0m \u001b[0mcsv\u001b[0m\u001b[0;34m\u001b[0m\u001b[0;34m\u001b[0m\u001b[0m\n",
      "\u001b[0;31mModuleNotFoundError\u001b[0m: No module named 'selenium'"
     ]
    }
   ],
   "source": [
    "from selenium import webdriver\n",
    "from selenium.webdriver.common.by import By\n",
    "from selenium.webdriver.support.ui import WebDriverWait\n",
    "from selenium.webdriver.support import expected_conditions as EC\n",
    "import csv\n",
    "\n",
    "path = \"path_to_chrome_driver\"\n",
    "driver = webdriver.Chrome(path)\n",
    "\n",
    "# Function to scrape informations from movie\n",
    "def scrape_movie():\n",
    "\n",
    "    try:\n",
    "        title = WebDriverWait(driver, 30).until(\n",
    "            EC.presence_of_element_located((By.CLASS_NAME, \"title_wrapper\"))\n",
    "        )\n",
    "        movie_title = title.text\n",
    "\n",
    "        rating = WebDriverWait(driver, 30).until(\n",
    "            EC.presence_of_element_located((By.CLASS_NAME, \"imdbRating\"))\n",
    "        )\n",
    "        movie_rating = rating.text\n",
    "\n",
    "        duration = WebDriverWait(driver, 30).until(\n",
    "            EC.presence_of_element_located((By.XPATH, \"//*[@id='title-overview-widget']/div[1]/div[2]/div/div[2]/div[2]/div/time\"))\n",
    "        )\n",
    "        movie_duration = duration.text\n",
    "\n",
    "        genre = WebDriverWait(driver, 30).until(\n",
    "            EC.presence_of_element_located((By.XPATH, \"//*[@id='title-overview-widget']/div[1]/div[2]/div/div[2]/div[2]/div/a[1]\"))\n",
    "        )\n",
    "        movie_genre = genre.text\n",
    "\n",
    "        summary = WebDriverWait(driver, 30).until(\n",
    "            EC.presence_of_element_located((By.CLASS_NAME, \"summary_text\"))\n",
    "        )\n",
    "        movie_summary = summary.text\n",
    "\n",
    "        year = WebDriverWait(driver, 30).until(\n",
    "            EC.presence_of_element_located((By.ID, \"titleYear\"))\n",
    "        )\n",
    "        movie_release = year.text\n",
    "\n",
    "        credits = WebDriverWait(driver, 30).until(\n",
    "            EC.presence_of_all_elements_located((By.CLASS_NAME, \"credit_summary_item\"))\n",
    "        )\n",
    "        director = credits[0].text\n",
    "        writers = credits[1].text\n",
    "        stars = credits[2].text\n",
    "\n",
    "        keywords = WebDriverWait(driver, 30).until(\n",
    "            EC.presence_of_all_elements_located((By.CLASS_NAME, \"itemprop\"))\n",
    "        )\n",
    "        keywords_of_movie = []\n",
    "        for i in keywords:\n",
    "            keywords_of_movie.append(i.text)\n",
    "\n",
    "        movie = (movie_title,movie_rating,director,writers,stars,keywords_of_movie,movie_duration,movie_genre,movie_release,movie_summary)\n",
    "        driver.back()\n",
    "\n",
    "        return movie\n",
    "\n",
    "    except:\n",
    "        driver.quit()\n",
    "\n",
    "\n",
    "driver.get(\"https://www.imdb.com/search/title/?groups=top_1000&sort=user_rating,desc&start=0&ref_=adv_nxt\")\n",
    "\n",
    "scraped_movies = []\n",
    "\n",
    "# Start of every page is increased by 50. So, start of 1st page is 1, 2nd is 51, 3rd is 101,...\n",
    "start_page = []\n",
    "start_page.append(0)\n",
    "number = 1\n",
    "for i in range(16):\n",
    "    number += 50\n",
    "    start_page.append(number)\n",
    "\n",
    "page = 0\n",
    "while page < 14:\n",
    "    for i in range(0,50): #0,50\n",
    "        try:\n",
    "            items = WebDriverWait(driver, 30).until(\n",
    "                EC.presence_of_all_elements_located((By.CLASS_NAME, \"loadlate\"))\n",
    "            )\n",
    "\n",
    "            items[i].click()\n",
    "            movie_scraped = scrape_movie()\n",
    "            scraped_movies.append(movie_scraped)\n",
    "\n",
    "        except:\n",
    "            driver.implicitly_wait(5)\n",
    "    page+=1\n",
    "    new_link = \"https://www.imdb.com/search/title/?groups=top_1000&sort=user_rating,desc&start={}&ref_=adv_nxt\".format(start_page[page])\n",
    "    driver.get(new_link)\n",
    "\n",
    "with open(\"imdb_top_800_movies_4.csv\", \"w\", newline='',encoding='utf-8') as f:\n",
    "    writer = csv.writer(f)\n",
    "    writer.writerow([\"Title\",\"Rating\",\"Director\",\"Writers\",\"Stars\",\"Keywords\",\"Movie_Duration\",\"Genre\",\"Release_Year\",\"Description\"])\n",
    "    writer.writerows(scraped_movies)"
   ]
  },
  {
   "cell_type": "markdown",
   "metadata": {
    "papermill": {
     "duration": 0.045273,
     "end_time": "2020-10-23T10:21:53.256794",
     "exception": false,
     "start_time": "2020-10-23T10:21:53.211521",
     "status": "completed"
    },
    "tags": []
   },
   "source": [
    "*Basically, it goes to imdb top 1000 movies. Every page has 50 movies. It goes in every movie individually, scrape the data about Title, Duration, Rating, Writers, Stars, Directors, Keywords and Description. After finising 50 movies, link is automatically being changed for the next page, and same process happens again and again until the end of while loop.*\n",
    "\n",
    "**NOTE: I can't scrape data from Kaggle. I left this code here so you can see how I got the data.**"
   ]
  },
  {
   "cell_type": "markdown",
   "metadata": {
    "papermill": {
     "duration": 0.044279,
     "end_time": "2020-10-23T10:21:53.345564",
     "exception": false,
     "start_time": "2020-10-23T10:21:53.301285",
     "status": "completed"
    },
    "tags": []
   },
   "source": [
    "# <span style=\"color:DarkCyan\">**<a id='Data'>Data</a>**<span>"
   ]
  },
  {
   "cell_type": "markdown",
   "metadata": {
    "papermill": {
     "duration": 0.043945,
     "end_time": "2020-10-23T10:21:53.434891",
     "exception": false,
     "start_time": "2020-10-23T10:21:53.390946",
     "status": "completed"
    },
    "tags": []
   },
   "source": [
    "### Data contains columns such as: \n",
    "* Title\n",
    "* Rating\n",
    "* Director\n",
    "* Writers\n",
    "* Stars\n",
    "* Keywords\n",
    "* Movie duration\n",
    "* Genre\n",
    "* Release Year\n",
    "* Description\n",
    "\n",
    "**For now the data is raw. We will focus on data cleansing first.**"
   ]
  },
  {
   "cell_type": "markdown",
   "metadata": {
    "papermill": {
     "duration": 0.04511,
     "end_time": "2020-10-23T10:21:53.525524",
     "exception": false,
     "start_time": "2020-10-23T10:21:53.480414",
     "status": "completed"
    },
    "tags": []
   },
   "source": [
    "# <span style=\"color:DarkCyan\">**<a id='Loading-Data'>Loading Data</a>**<span>"
   ]
  },
  {
   "cell_type": "code",
   "execution_count": 3,
   "metadata": {
    "execution": {
     "iopub.execute_input": "2020-10-23T10:21:53.621511Z",
     "iopub.status.busy": "2020-10-23T10:21:53.620704Z",
     "iopub.status.idle": "2020-10-23T10:21:53.664578Z",
     "shell.execute_reply": "2020-10-23T10:21:53.663927Z"
    },
    "papermill": {
     "duration": 0.094935,
     "end_time": "2020-10-23T10:21:53.664743",
     "exception": false,
     "start_time": "2020-10-23T10:21:53.569808",
     "status": "completed"
    },
    "tags": []
   },
   "outputs": [
    {
     "name": "stdout",
     "output_type": "stream",
     "text": [
      "                                               Title           Rating  \\\n",
      "0  Wild Tales (2014)\\rRelatos salvajes (original ...  8.1/10\\r172,423   \n",
      "1  Winter Sleep (2014)\\rKis Uykusu (original titl...   8.1/10\\r44,405   \n",
      "2  Baahubali: The Beginning (2015)\\rBí£hubali: Th...  8.1/10\\r100,816   \n",
      "3  Gully Boy (2019)\\rNot Rated | 2h 33min | Drama...   8.1/10\\r30,297   \n",
      "4  PK (2014)\\rNot Rated | 2h 33min | Comedy, Dram...  8.1/10\\r158,678   \n",
      "\n",
      "                      Director  \\\n",
      "0    Director: Damiíçn Szifron   \n",
      "1  Director: Nuri Bilge Ceylan   \n",
      "2     Director: S.S. Rajamouli   \n",
      "3        Director: Zoya Akhtar   \n",
      "4    Director: Rajkumar Hirani   \n",
      "\n",
      "                                             Writers  \\\n",
      "0  Writers: Germíçn Servidio (collaborating write...   \n",
      "1  Writers: Ebru Ceylan, Nuri Bilge Ceylan | 1 mo...   \n",
      "2  Writers: Vijayendra Prasad (story by), S.S. Ra...   \n",
      "3  Writers: Zoya Akhtar, Reema Kagti | 1 more cre...   \n",
      "4            Writers: Rajkumar Hirani, Abhijat Joshi   \n",
      "\n",
      "                                               Stars  \\\n",
      "0  Stars: Darí_o Grandinetti, Marí_a Marull, Mí_n...   \n",
      "1  Stars: Haluk Bilginer, Melisa Sí_zen, Demet Ak...   \n",
      "2  Stars: Prabhas, Rana Daggubati, Ramya Krishnan...   \n",
      "3  Stars: Vijay Varma, Nakul Roshan Sahdev, Ranve...   \n",
      "4  Stars: Aamir Khan, Anushka Sharma, Sanjay Dutt...   \n",
      "\n",
      "                                            Keywords Movie_Duration   Genre  \\\n",
      "0  ['anthology film', 'suicide by airplane crash'...        2h 2min  Comedy   \n",
      "1  ['throwing a stone at a car', 'husband wife re...       3h 16min   Drama   \n",
      "2  ['india', 'kingdom', 'dual role', 'hindu', 'go...       2h 39min  Action   \n",
      "3  ['rapper', 'singer', 'success', 'love', 'frien...       2h 33min   Drama   \n",
      "4  ['religion', 'tv reporter', 'alien on earth', ...       2h 33min  Comedy   \n",
      "\n",
      "   Release_Year                                        Description  \n",
      "0         -2014  Six short stories that explore the extremities...  \n",
      "1         -2014  A hotel owner and landlord in a remote Turkish...  \n",
      "2         -2015  In ancient India, an adventurous and daring ma...  \n",
      "3         -2019  A coming-of-age story based on the lives of st...  \n",
      "4         -2014  An alien on Earth loses the only device he can...  \n"
     ]
    }
   ],
   "source": [
    "import pandas as pd\n",
    "\n",
    "df = pd.read_csv('/kaggle/input/imdb-top-800-moviescsv/imdb_top_800_movies.csv', encoding='ISO-8859-1')\n",
    "print(df.head())"
   ]
  },
  {
   "cell_type": "code",
   "execution_count": 4,
   "metadata": {
    "execution": {
     "iopub.execute_input": "2020-10-23T10:21:53.763791Z",
     "iopub.status.busy": "2020-10-23T10:21:53.762658Z",
     "iopub.status.idle": "2020-10-23T10:21:53.766596Z",
     "shell.execute_reply": "2020-10-23T10:21:53.767460Z"
    },
    "papermill": {
     "duration": 0.057335,
     "end_time": "2020-10-23T10:21:53.767718",
     "exception": false,
     "start_time": "2020-10-23T10:21:53.710383",
     "status": "completed"
    },
    "tags": []
   },
   "outputs": [
    {
     "name": "stdout",
     "output_type": "stream",
     "text": [
      "Title             object\n",
      "Rating            object\n",
      "Director          object\n",
      "Writers           object\n",
      "Stars             object\n",
      "Keywords          object\n",
      "Movie_Duration    object\n",
      "Genre             object\n",
      "Release_Year       int64\n",
      "Description       object\n",
      "dtype: object\n"
     ]
    }
   ],
   "source": [
    "print(df.dtypes)"
   ]
  },
  {
   "cell_type": "markdown",
   "metadata": {
    "papermill": {
     "duration": 0.045205,
     "end_time": "2020-10-23T10:21:53.859061",
     "exception": false,
     "start_time": "2020-10-23T10:21:53.813856",
     "status": "completed"
    },
    "tags": []
   },
   "source": [
    "**As you can see, we'll have to deal with special characters in data, data types(converting object to int/float), creating new columns in data such as 'Number_Of_Ratings'(extract from column Rating) and change the format of 'Movie_Duration' to minutes. Because, we can't use format of '2h30min' in our model, so '2h30min' would be 150(min).**\n",
    "\n",
    "**I'll start with cleaning Title, Directors, Writers and Stars columns. Because those columns have similar format problem. They all have unnecessary brackets, dots, etc ...**"
   ]
  },
  {
   "cell_type": "code",
   "execution_count": 5,
   "metadata": {
    "execution": {
     "iopub.execute_input": "2020-10-23T10:21:53.976588Z",
     "iopub.status.busy": "2020-10-23T10:21:53.975437Z",
     "iopub.status.idle": "2020-10-23T10:21:53.991040Z",
     "shell.execute_reply": "2020-10-23T10:21:53.990317Z"
    },
    "papermill": {
     "duration": 0.086133,
     "end_time": "2020-10-23T10:21:53.991179",
     "exception": false,
     "start_time": "2020-10-23T10:21:53.905046",
     "status": "completed"
    },
    "tags": []
   },
   "outputs": [
    {
     "data": {
      "text/html": [
       "<div>\n",
       "<style scoped>\n",
       "    .dataframe tbody tr th:only-of-type {\n",
       "        vertical-align: middle;\n",
       "    }\n",
       "\n",
       "    .dataframe tbody tr th {\n",
       "        vertical-align: top;\n",
       "    }\n",
       "\n",
       "    .dataframe thead th {\n",
       "        text-align: right;\n",
       "    }\n",
       "</style>\n",
       "<table border=\"1\" class=\"dataframe\">\n",
       "  <thead>\n",
       "    <tr style=\"text-align: right;\">\n",
       "      <th></th>\n",
       "      <th>Title</th>\n",
       "      <th>Rating</th>\n",
       "      <th>Director</th>\n",
       "      <th>Writers</th>\n",
       "      <th>Stars</th>\n",
       "      <th>Keywords</th>\n",
       "      <th>Movie_Duration</th>\n",
       "      <th>Genre</th>\n",
       "      <th>Release_Year</th>\n",
       "      <th>Description</th>\n",
       "    </tr>\n",
       "  </thead>\n",
       "  <tbody>\n",
       "    <tr>\n",
       "      <th>0</th>\n",
       "      <td>Wild Tales</td>\n",
       "      <td>8.1/10\\r172,423</td>\n",
       "      <td>Damiíçn Szifron</td>\n",
       "      <td>Germíçn Servidio</td>\n",
       "      <td>Stars</td>\n",
       "      <td>['anthology film', 'suicide by airplane crash'...</td>\n",
       "      <td>2h 2min</td>\n",
       "      <td>Comedy</td>\n",
       "      <td>-2014</td>\n",
       "      <td>Six short stories that explore the extremities...</td>\n",
       "    </tr>\n",
       "    <tr>\n",
       "      <th>1</th>\n",
       "      <td>Winter Sleep</td>\n",
       "      <td>8.1/10\\r44,405</td>\n",
       "      <td>Nuri Bilge Ceylan</td>\n",
       "      <td>Ebru Ceylan, Nuri Bilge Ceylan</td>\n",
       "      <td>Stars</td>\n",
       "      <td>['throwing a stone at a car', 'husband wife re...</td>\n",
       "      <td>3h 16min</td>\n",
       "      <td>Drama</td>\n",
       "      <td>-2014</td>\n",
       "      <td>A hotel owner and landlord in a remote Turkish...</td>\n",
       "    </tr>\n",
       "    <tr>\n",
       "      <th>2</th>\n",
       "      <td>Baahubali: The Beginning</td>\n",
       "      <td>8.1/10\\r100,816</td>\n",
       "      <td>S.S. Rajamouli</td>\n",
       "      <td>Vijayendra Prasad</td>\n",
       "      <td>Stars</td>\n",
       "      <td>['india', 'kingdom', 'dual role', 'hindu', 'go...</td>\n",
       "      <td>2h 39min</td>\n",
       "      <td>Action</td>\n",
       "      <td>-2015</td>\n",
       "      <td>In ancient India, an adventurous and daring ma...</td>\n",
       "    </tr>\n",
       "    <tr>\n",
       "      <th>3</th>\n",
       "      <td>Gully Boy</td>\n",
       "      <td>8.1/10\\r30,297</td>\n",
       "      <td>Zoya Akhtar</td>\n",
       "      <td>Zoya Akhtar, Reema Kagti</td>\n",
       "      <td>Stars</td>\n",
       "      <td>['rapper', 'singer', 'success', 'love', 'frien...</td>\n",
       "      <td>2h 33min</td>\n",
       "      <td>Drama</td>\n",
       "      <td>-2019</td>\n",
       "      <td>A coming-of-age story based on the lives of st...</td>\n",
       "    </tr>\n",
       "    <tr>\n",
       "      <th>4</th>\n",
       "      <td>PK</td>\n",
       "      <td>8.1/10\\r158,678</td>\n",
       "      <td>Rajkumar Hirani</td>\n",
       "      <td>Rajkumar Hirani, Abhijat Joshi</td>\n",
       "      <td>Stars</td>\n",
       "      <td>['religion', 'tv reporter', 'alien on earth', ...</td>\n",
       "      <td>2h 33min</td>\n",
       "      <td>Comedy</td>\n",
       "      <td>-2014</td>\n",
       "      <td>An alien on Earth loses the only device he can...</td>\n",
       "    </tr>\n",
       "  </tbody>\n",
       "</table>\n",
       "</div>"
      ],
      "text/plain": [
       "                       Title           Rating            Director  \\\n",
       "0                Wild Tales   8.1/10\\r172,423     Damiíçn Szifron   \n",
       "1              Winter Sleep    8.1/10\\r44,405   Nuri Bilge Ceylan   \n",
       "2  Baahubali: The Beginning   8.1/10\\r100,816      S.S. Rajamouli   \n",
       "3                 Gully Boy    8.1/10\\r30,297         Zoya Akhtar   \n",
       "4                        PK   8.1/10\\r158,678     Rajkumar Hirani   \n",
       "\n",
       "                            Writers  Stars  \\\n",
       "0                 Germíçn Servidio   Stars   \n",
       "1   Ebru Ceylan, Nuri Bilge Ceylan   Stars   \n",
       "2                Vijayendra Prasad   Stars   \n",
       "3         Zoya Akhtar, Reema Kagti   Stars   \n",
       "4    Rajkumar Hirani, Abhijat Joshi  Stars   \n",
       "\n",
       "                                            Keywords Movie_Duration   Genre  \\\n",
       "0  ['anthology film', 'suicide by airplane crash'...        2h 2min  Comedy   \n",
       "1  ['throwing a stone at a car', 'husband wife re...       3h 16min   Drama   \n",
       "2  ['india', 'kingdom', 'dual role', 'hindu', 'go...       2h 39min  Action   \n",
       "3  ['rapper', 'singer', 'success', 'love', 'frien...       2h 33min   Drama   \n",
       "4  ['religion', 'tv reporter', 'alien on earth', ...       2h 33min  Comedy   \n",
       "\n",
       "   Release_Year                                        Description  \n",
       "0         -2014  Six short stories that explore the extremities...  \n",
       "1         -2014  A hotel owner and landlord in a remote Turkish...  \n",
       "2         -2015  In ancient India, an adventurous and daring ma...  \n",
       "3         -2019  A coming-of-age story based on the lives of st...  \n",
       "4         -2014  An alien on Earth loses the only device he can...  "
      ]
     },
     "execution_count": 5,
     "metadata": {},
     "output_type": "execute_result"
    }
   ],
   "source": [
    "df[\"Title\"] = df[\"Title\"].apply(lambda x: x.split(\"(\")[0])\n",
    "df[\"Director\"] = df[\"Director\"].apply(lambda x: x.split(\":\")[1])\n",
    "df[\"Writers\"] = df[\"Writers\"].apply(lambda x: x.split(\":\")[1].split(\"|\")[0].split(\"(\")[0])\n",
    "df[\"Stars\"] = df[\"Stars\"].apply(lambda x: x.split(\":\")[0].split(\"|\")[0])\n",
    "df.head()"
   ]
  },
  {
   "cell_type": "markdown",
   "metadata": {
    "papermill": {
     "duration": 0.04611,
     "end_time": "2020-10-23T10:21:54.084287",
     "exception": false,
     "start_time": "2020-10-23T10:21:54.038177",
     "status": "completed"
    },
    "tags": []
   },
   "source": [
    "**Now we will change column \"Movie_Duration\" format to minutes.(example: 1h30min would be just 90)**"
   ]
  },
  {
   "cell_type": "code",
   "execution_count": 6,
   "metadata": {
    "execution": {
     "iopub.execute_input": "2020-10-23T10:21:54.214414Z",
     "iopub.status.busy": "2020-10-23T10:21:54.206102Z",
     "iopub.status.idle": "2020-10-23T10:21:54.281233Z",
     "shell.execute_reply": "2020-10-23T10:21:54.280595Z"
    },
    "papermill": {
     "duration": 0.150023,
     "end_time": "2020-10-23T10:21:54.281368",
     "exception": false,
     "start_time": "2020-10-23T10:21:54.131345",
     "status": "completed"
    },
    "tags": []
   },
   "outputs": [],
   "source": [
    "df[\"duration\"] = df[\"Movie_Duration\"].apply(pd.Timedelta)\n",
    "df[\"hour\"] = df[\"duration\"].apply(lambda x: str(x).split(\"days\")[1].split(\":\")[0])\n",
    "df[\"hour\"] = pd.to_numeric(df[\"hour\"]) * 60\n",
    "df[\"minutes\"] = df[\"duration\"].apply(lambda x: str(x).split(\"days\")[1].split(\":\")[1])\n",
    "df[\"minutes\"] = pd.to_numeric(df[\"minutes\"])\n",
    "df[\"Movie_Duration\"] = df[\"hour\"] + df[\"minutes\"]\n",
    "df.drop(columns=[\"duration\",\"hour\",\"minutes\"],inplace=True)"
   ]
  },
  {
   "cell_type": "code",
   "execution_count": 7,
   "metadata": {
    "execution": {
     "iopub.execute_input": "2020-10-23T10:21:54.395183Z",
     "iopub.status.busy": "2020-10-23T10:21:54.393778Z",
     "iopub.status.idle": "2020-10-23T10:21:54.399820Z",
     "shell.execute_reply": "2020-10-23T10:21:54.399133Z"
    },
    "papermill": {
     "duration": 0.071485,
     "end_time": "2020-10-23T10:21:54.399968",
     "exception": false,
     "start_time": "2020-10-23T10:21:54.328483",
     "status": "completed"
    },
    "tags": []
   },
   "outputs": [
    {
     "data": {
      "text/html": [
       "<div>\n",
       "<style scoped>\n",
       "    .dataframe tbody tr th:only-of-type {\n",
       "        vertical-align: middle;\n",
       "    }\n",
       "\n",
       "    .dataframe tbody tr th {\n",
       "        vertical-align: top;\n",
       "    }\n",
       "\n",
       "    .dataframe thead th {\n",
       "        text-align: right;\n",
       "    }\n",
       "</style>\n",
       "<table border=\"1\" class=\"dataframe\">\n",
       "  <thead>\n",
       "    <tr style=\"text-align: right;\">\n",
       "      <th></th>\n",
       "      <th>Title</th>\n",
       "      <th>Rating</th>\n",
       "      <th>Director</th>\n",
       "      <th>Writers</th>\n",
       "      <th>Stars</th>\n",
       "      <th>Keywords</th>\n",
       "      <th>Movie_Duration</th>\n",
       "      <th>Genre</th>\n",
       "      <th>Release_Year</th>\n",
       "      <th>Description</th>\n",
       "    </tr>\n",
       "  </thead>\n",
       "  <tbody>\n",
       "    <tr>\n",
       "      <th>0</th>\n",
       "      <td>Wild Tales</td>\n",
       "      <td>8.1/10\\r172,423</td>\n",
       "      <td>Damiíçn Szifron</td>\n",
       "      <td>Germíçn Servidio</td>\n",
       "      <td>Stars</td>\n",
       "      <td>['anthology film', 'suicide by airplane crash'...</td>\n",
       "      <td>122</td>\n",
       "      <td>Comedy</td>\n",
       "      <td>-2014</td>\n",
       "      <td>Six short stories that explore the extremities...</td>\n",
       "    </tr>\n",
       "    <tr>\n",
       "      <th>1</th>\n",
       "      <td>Winter Sleep</td>\n",
       "      <td>8.1/10\\r44,405</td>\n",
       "      <td>Nuri Bilge Ceylan</td>\n",
       "      <td>Ebru Ceylan, Nuri Bilge Ceylan</td>\n",
       "      <td>Stars</td>\n",
       "      <td>['throwing a stone at a car', 'husband wife re...</td>\n",
       "      <td>196</td>\n",
       "      <td>Drama</td>\n",
       "      <td>-2014</td>\n",
       "      <td>A hotel owner and landlord in a remote Turkish...</td>\n",
       "    </tr>\n",
       "    <tr>\n",
       "      <th>2</th>\n",
       "      <td>Baahubali: The Beginning</td>\n",
       "      <td>8.1/10\\r100,816</td>\n",
       "      <td>S.S. Rajamouli</td>\n",
       "      <td>Vijayendra Prasad</td>\n",
       "      <td>Stars</td>\n",
       "      <td>['india', 'kingdom', 'dual role', 'hindu', 'go...</td>\n",
       "      <td>159</td>\n",
       "      <td>Action</td>\n",
       "      <td>-2015</td>\n",
       "      <td>In ancient India, an adventurous and daring ma...</td>\n",
       "    </tr>\n",
       "  </tbody>\n",
       "</table>\n",
       "</div>"
      ],
      "text/plain": [
       "                       Title           Rating            Director  \\\n",
       "0                Wild Tales   8.1/10\\r172,423     Damiíçn Szifron   \n",
       "1              Winter Sleep    8.1/10\\r44,405   Nuri Bilge Ceylan   \n",
       "2  Baahubali: The Beginning   8.1/10\\r100,816      S.S. Rajamouli   \n",
       "\n",
       "                            Writers  Stars  \\\n",
       "0                 Germíçn Servidio   Stars   \n",
       "1   Ebru Ceylan, Nuri Bilge Ceylan   Stars   \n",
       "2                Vijayendra Prasad   Stars   \n",
       "\n",
       "                                            Keywords  Movie_Duration   Genre  \\\n",
       "0  ['anthology film', 'suicide by airplane crash'...             122  Comedy   \n",
       "1  ['throwing a stone at a car', 'husband wife re...             196   Drama   \n",
       "2  ['india', 'kingdom', 'dual role', 'hindu', 'go...             159  Action   \n",
       "\n",
       "   Release_Year                                        Description  \n",
       "0         -2014  Six short stories that explore the extremities...  \n",
       "1         -2014  A hotel owner and landlord in a remote Turkish...  \n",
       "2         -2015  In ancient India, an adventurous and daring ma...  "
      ]
     },
     "execution_count": 7,
     "metadata": {},
     "output_type": "execute_result"
    }
   ],
   "source": [
    "df.head(3)"
   ]
  },
  {
   "cell_type": "markdown",
   "metadata": {
    "papermill": {
     "duration": 0.048458,
     "end_time": "2020-10-23T10:21:54.499978",
     "exception": false,
     "start_time": "2020-10-23T10:21:54.451520",
     "status": "completed"
    },
    "tags": []
   },
   "source": [
    "**Let's extract number of ratings from column Rating and store it in new column Num_of_ratings**\n",
    "\n",
    "**Number of ratings is located in new Row in column \"Rating\", I will use lambda function with split on new row and take second element(Number of Ratings).**\n",
    "\n",
    "**After that we will remove number of ratings from column Ratings and leave just single number(rate) there.**"
   ]
  },
  {
   "cell_type": "code",
   "execution_count": 8,
   "metadata": {
    "execution": {
     "iopub.execute_input": "2020-10-23T10:21:54.605471Z",
     "iopub.status.busy": "2020-10-23T10:21:54.604421Z",
     "iopub.status.idle": "2020-10-23T10:21:54.608164Z",
     "shell.execute_reply": "2020-10-23T10:21:54.607425Z"
    },
    "papermill": {
     "duration": 0.060327,
     "end_time": "2020-10-23T10:21:54.608288",
     "exception": false,
     "start_time": "2020-10-23T10:21:54.547961",
     "status": "completed"
    },
    "tags": []
   },
   "outputs": [],
   "source": [
    "df[\"Num_of_ratings\"] = df[\"Rating\"].apply(lambda x: x.split(\"\\r\")[1].replace(\",\",\"\"))"
   ]
  },
  {
   "cell_type": "code",
   "execution_count": 9,
   "metadata": {
    "execution": {
     "iopub.execute_input": "2020-10-23T10:21:54.718862Z",
     "iopub.status.busy": "2020-10-23T10:21:54.717742Z",
     "iopub.status.idle": "2020-10-23T10:21:54.721279Z",
     "shell.execute_reply": "2020-10-23T10:21:54.720689Z"
    },
    "papermill": {
     "duration": 0.064751,
     "end_time": "2020-10-23T10:21:54.721418",
     "exception": false,
     "start_time": "2020-10-23T10:21:54.656667",
     "status": "completed"
    },
    "tags": []
   },
   "outputs": [],
   "source": [
    "df[\"Num_of_ratings\"] = pd.to_numeric(df[\"Num_of_ratings\"])"
   ]
  },
  {
   "cell_type": "code",
   "execution_count": 10,
   "metadata": {
    "execution": {
     "iopub.execute_input": "2020-10-23T10:21:54.831749Z",
     "iopub.status.busy": "2020-10-23T10:21:54.830821Z",
     "iopub.status.idle": "2020-10-23T10:21:54.834361Z",
     "shell.execute_reply": "2020-10-23T10:21:54.833742Z"
    },
    "papermill": {
     "duration": 0.062241,
     "end_time": "2020-10-23T10:21:54.834500",
     "exception": false,
     "start_time": "2020-10-23T10:21:54.772259",
     "status": "completed"
    },
    "tags": []
   },
   "outputs": [],
   "source": [
    "df[\"Rating\"] = df[\"Rating\"].apply(lambda x: x.split(\"\\r\")[0].split(\"/\")[0])"
   ]
  },
  {
   "cell_type": "code",
   "execution_count": 11,
   "metadata": {
    "execution": {
     "iopub.execute_input": "2020-10-23T10:21:54.943505Z",
     "iopub.status.busy": "2020-10-23T10:21:54.941914Z",
     "iopub.status.idle": "2020-10-23T10:21:54.947207Z",
     "shell.execute_reply": "2020-10-23T10:21:54.946334Z"
    },
    "papermill": {
     "duration": 0.063099,
     "end_time": "2020-10-23T10:21:54.947351",
     "exception": false,
     "start_time": "2020-10-23T10:21:54.884252",
     "status": "completed"
    },
    "tags": []
   },
   "outputs": [
    {
     "name": "stdout",
     "output_type": "stream",
     "text": [
      "Title              object\n",
      "Rating            float64\n",
      "Director           object\n",
      "Writers            object\n",
      "Stars              object\n",
      "Keywords           object\n",
      "Movie_Duration      int64\n",
      "Genre              object\n",
      "Release_Year        int64\n",
      "Description        object\n",
      "Num_of_ratings      int64\n",
      "dtype: object\n"
     ]
    }
   ],
   "source": [
    "df[\"Rating\"] = pd.to_numeric(df[\"Rating\"])\n",
    "print(df.dtypes)"
   ]
  },
  {
   "cell_type": "markdown",
   "metadata": {
    "papermill": {
     "duration": 0.059927,
     "end_time": "2020-10-23T10:21:55.058073",
     "exception": false,
     "start_time": "2020-10-23T10:21:54.998146",
     "status": "completed"
    },
    "tags": []
   },
   "source": [
    "**I will now convert every column to lower-letter.**"
   ]
  },
  {
   "cell_type": "code",
   "execution_count": 12,
   "metadata": {
    "execution": {
     "iopub.execute_input": "2020-10-23T10:21:55.172751Z",
     "iopub.status.busy": "2020-10-23T10:21:55.171957Z",
     "iopub.status.idle": "2020-10-23T10:21:55.175482Z",
     "shell.execute_reply": "2020-10-23T10:21:55.174718Z"
    },
    "papermill": {
     "duration": 0.066903,
     "end_time": "2020-10-23T10:21:55.175613",
     "exception": false,
     "start_time": "2020-10-23T10:21:55.108710",
     "status": "completed"
    },
    "tags": []
   },
   "outputs": [],
   "source": [
    "to_convert = [\"Title\",\"Director\",\"Writers\",\"Stars\",\"Keywords\"]\n",
    "def convert_to_lower(columns):\n",
    "    for i in columns:\n",
    "        df[i] = df[i].apply(lambda x: x.lower())\n",
    "\n",
    "convert_to_lower(to_convert)"
   ]
  },
  {
   "cell_type": "markdown",
   "metadata": {
    "papermill": {
     "duration": 0.050324,
     "end_time": "2020-10-23T10:21:55.275573",
     "exception": false,
     "start_time": "2020-10-23T10:21:55.225249",
     "status": "completed"
    },
    "tags": []
   },
   "source": [
    "**I've noticed that most columns have special characters such as \"@#$/_-+,...\", so I will remove those by creating list with all special characters. I will loop through list and replace special characters from DataFrame with blank.**"
   ]
  },
  {
   "cell_type": "code",
   "execution_count": 13,
   "metadata": {
    "execution": {
     "iopub.execute_input": "2020-10-23T10:21:55.392495Z",
     "iopub.status.busy": "2020-10-23T10:21:55.391684Z",
     "iopub.status.idle": "2020-10-23T10:21:55.749096Z",
     "shell.execute_reply": "2020-10-23T10:21:55.748398Z"
    },
    "papermill": {
     "duration": 0.424914,
     "end_time": "2020-10-23T10:21:55.749227",
     "exception": false,
     "start_time": "2020-10-23T10:21:55.324313",
     "status": "completed"
    },
    "tags": []
   },
   "outputs": [],
   "source": [
    "spec_chars = [\"!\",'\"',\"#\",\"ç\",\"\",\"%\",\"&\",\"'\",\"(\",\")\",\n",
    "              \"*\",\"+\",\",\",\"-\",\".\",\"/\",\":\",\";\",\"<\",\n",
    "              \"=\",\">\",\"?\",\"@\",\"[\",\"\\\\\",\"]\",\"^\",\"_\",\n",
    "              \"`\",\"{\",\"|\",\"}\",\"~\",\"–\",\",\",\"[\",\"]\",\n",
    "              \"à\",\"á\",\"â\",\"ã\",\"ó\", \"+\",\"Ù\",\"Û\",\n",
    "              \"ä\", \"©\", \"í\", \"ì\",\"ç\",\"\\r\"]\n",
    "\n",
    "\n",
    "for char in spec_chars:\n",
    "    df[\"Stars\"] = df[\"Stars\"].str.replace(char, \"\")\n",
    "    df[\"Keywords\"] = df[\"Keywords\"].str.replace(char, \"\")\n",
    "    df[\"Writers\"] = df[\"Writers\"].str.replace(char, \"\")\n",
    "    df[\"Title\"] = df[\"Title\"].str.replace(char, \"\")\n",
    "    df[\"Director\"] = df[\"Director\"].str.replace(char, \"\")"
   ]
  },
  {
   "cell_type": "markdown",
   "metadata": {
    "papermill": {
     "duration": 0.051174,
     "end_time": "2020-10-23T10:21:55.850712",
     "exception": false,
     "start_time": "2020-10-23T10:21:55.799538",
     "status": "completed"
    },
    "tags": []
   },
   "source": [
    "**Let's check for NaN Values now**\n",
    "\n",
    "I also decided to drop \"Description\" column, because I will not use it for features."
   ]
  },
  {
   "cell_type": "code",
   "execution_count": 14,
   "metadata": {
    "execution": {
     "iopub.execute_input": "2020-10-23T10:21:55.961656Z",
     "iopub.status.busy": "2020-10-23T10:21:55.960080Z",
     "iopub.status.idle": "2020-10-23T10:21:55.970815Z",
     "shell.execute_reply": "2020-10-23T10:21:55.970010Z"
    },
    "papermill": {
     "duration": 0.070624,
     "end_time": "2020-10-23T10:21:55.970947",
     "exception": false,
     "start_time": "2020-10-23T10:21:55.900323",
     "status": "completed"
    },
    "tags": []
   },
   "outputs": [
    {
     "name": "stdout",
     "output_type": "stream",
     "text": [
      "False\n",
      "0\n"
     ]
    }
   ],
   "source": [
    "print(df.isnull().values.any())\n",
    "print(df.isnull().sum().sum())\n",
    "df.drop(columns=\"Description\",inplace=True)"
   ]
  },
  {
   "cell_type": "markdown",
   "metadata": {
    "papermill": {
     "duration": 0.051487,
     "end_time": "2020-10-23T10:21:56.074051",
     "exception": false,
     "start_time": "2020-10-23T10:21:56.022564",
     "status": "completed"
    },
    "tags": []
   },
   "source": [
    "**Now let's save our new cleaned DataFrame to new csv.**"
   ]
  },
  {
   "cell_type": "code",
   "execution_count": 15,
   "metadata": {
    "execution": {
     "iopub.execute_input": "2020-10-23T10:21:56.183100Z",
     "iopub.status.busy": "2020-10-23T10:21:56.181969Z",
     "iopub.status.idle": "2020-10-23T10:21:56.511758Z",
     "shell.execute_reply": "2020-10-23T10:21:56.510974Z"
    },
    "papermill": {
     "duration": 0.386709,
     "end_time": "2020-10-23T10:21:56.511930",
     "exception": false,
     "start_time": "2020-10-23T10:21:56.125221",
     "status": "completed"
    },
    "tags": []
   },
   "outputs": [],
   "source": [
    "df.to_csv(\"imdb_top_800_cleaned.csv\", index=False,header=True)"
   ]
  },
  {
   "cell_type": "markdown",
   "metadata": {
    "papermill": {
     "duration": 0.05024,
     "end_time": "2020-10-23T10:21:56.613102",
     "exception": false,
     "start_time": "2020-10-23T10:21:56.562862",
     "status": "completed"
    },
    "tags": []
   },
   "source": [
    "# <span style=\"color:DarkCyan\">**<a id='Model'>Model</a>**<span>"
   ]
  },
  {
   "cell_type": "markdown",
   "metadata": {
    "papermill": {
     "duration": 0.049787,
     "end_time": "2020-10-23T10:21:56.714971",
     "exception": false,
     "start_time": "2020-10-23T10:21:56.665184",
     "status": "completed"
    },
    "tags": []
   },
   "source": [
    "So, now we have cleaned DataFrame ready for modeling. \n",
    "\n",
    "Let's load our new DataFrame and think about features for our model.\n",
    "\n",
    "Before that I will import new libraries for our model."
   ]
  },
  {
   "cell_type": "code",
   "execution_count": 16,
   "metadata": {
    "execution": {
     "iopub.execute_input": "2020-10-23T10:21:56.823549Z",
     "iopub.status.busy": "2020-10-23T10:21:56.822752Z",
     "iopub.status.idle": "2020-10-23T10:21:57.965008Z",
     "shell.execute_reply": "2020-10-23T10:21:57.964173Z"
    },
    "papermill": {
     "duration": 1.197853,
     "end_time": "2020-10-23T10:21:57.965138",
     "exception": false,
     "start_time": "2020-10-23T10:21:56.767285",
     "status": "completed"
    },
    "tags": []
   },
   "outputs": [],
   "source": [
    "from sklearn.metrics.pairwise import cosine_similarity\n",
    "from sklearn.feature_extraction.text import CountVectorizer"
   ]
  },
  {
   "cell_type": "markdown",
   "metadata": {
    "papermill": {
     "duration": 0.071546,
     "end_time": "2020-10-23T10:21:58.087748",
     "exception": false,
     "start_time": "2020-10-23T10:21:58.016202",
     "status": "completed"
    },
    "tags": []
   },
   "source": [
    "![](https://www.codeheroku.com/static/blog/images/pid14_find_cos_theta.png)"
   ]
  },
  {
   "cell_type": "markdown",
   "metadata": {
    "papermill": {
     "duration": 0.052429,
     "end_time": "2020-10-23T10:21:58.191735",
     "exception": false,
     "start_time": "2020-10-23T10:21:58.139306",
     "status": "completed"
    },
    "tags": []
   },
   "source": [
    "These two texts(1-London Paris London, 2-Paris London Paris) are represented as vectors. So, we can say that two vectors are similar if the distance between them is small. By distance, we mean the angular distance between two vectors, which is represented by θ (theta). By thinking further from the machine learning perspective, we can understand that the value of cos θ makes more sense to us rather than the value of θ (theta) because, the cosine(or “cos”) function will map the value of θ in the first quadrant between 0 to 1.\n",
    "\n",
    "I will use the same principle for my model. I will turn my features to numbers with CountVectorizer and measure the distance between vectors."
   ]
  },
  {
   "cell_type": "markdown",
   "metadata": {
    "papermill": {
     "duration": 0.050519,
     "end_time": "2020-10-23T10:21:58.293834",
     "exception": false,
     "start_time": "2020-10-23T10:21:58.243315",
     "status": "completed"
    },
    "tags": []
   },
   "source": [
    "Loading cleaned DataFrame"
   ]
  },
  {
   "cell_type": "code",
   "execution_count": 17,
   "metadata": {
    "execution": {
     "iopub.execute_input": "2020-10-23T10:21:58.416397Z",
     "iopub.status.busy": "2020-10-23T10:21:58.415489Z",
     "iopub.status.idle": "2020-10-23T10:21:58.434457Z",
     "shell.execute_reply": "2020-10-23T10:21:58.433491Z"
    },
    "papermill": {
     "duration": 0.085584,
     "end_time": "2020-10-23T10:21:58.434614",
     "exception": false,
     "start_time": "2020-10-23T10:21:58.349030",
     "status": "completed"
    },
    "tags": []
   },
   "outputs": [],
   "source": [
    "df_cleaned = pd.read_csv(\"/kaggle/input/cleaned/imdb_top_800_cleaned.csv\")\n",
    "df_cleaned.reset_index(inplace=True)\n",
    "df_cleaned.rename(columns={\"index\" : \"Id\"},inplace=True)"
   ]
  },
  {
   "cell_type": "code",
   "execution_count": 18,
   "metadata": {
    "execution": {
     "iopub.execute_input": "2020-10-23T10:21:58.568304Z",
     "iopub.status.busy": "2020-10-23T10:21:58.567342Z",
     "iopub.status.idle": "2020-10-23T10:21:58.572459Z",
     "shell.execute_reply": "2020-10-23T10:21:58.571744Z"
    },
    "papermill": {
     "duration": 0.081266,
     "end_time": "2020-10-23T10:21:58.572589",
     "exception": false,
     "start_time": "2020-10-23T10:21:58.491323",
     "status": "completed"
    },
    "tags": []
   },
   "outputs": [
    {
     "data": {
      "text/html": [
       "<div>\n",
       "<style scoped>\n",
       "    .dataframe tbody tr th:only-of-type {\n",
       "        vertical-align: middle;\n",
       "    }\n",
       "\n",
       "    .dataframe tbody tr th {\n",
       "        vertical-align: top;\n",
       "    }\n",
       "\n",
       "    .dataframe thead th {\n",
       "        text-align: right;\n",
       "    }\n",
       "</style>\n",
       "<table border=\"1\" class=\"dataframe\">\n",
       "  <thead>\n",
       "    <tr style=\"text-align: right;\">\n",
       "      <th></th>\n",
       "      <th>Id</th>\n",
       "      <th>Title</th>\n",
       "      <th>Rating</th>\n",
       "      <th>Director</th>\n",
       "      <th>Writers</th>\n",
       "      <th>Stars</th>\n",
       "      <th>Keywords</th>\n",
       "      <th>Movie_Duration</th>\n",
       "      <th>Genre</th>\n",
       "      <th>Release_Year</th>\n",
       "      <th>Num_of_ratings</th>\n",
       "    </tr>\n",
       "  </thead>\n",
       "  <tbody>\n",
       "    <tr>\n",
       "      <th>0</th>\n",
       "      <td>0</td>\n",
       "      <td>wild tales</td>\n",
       "      <td>8.1</td>\n",
       "      <td>damin szifron</td>\n",
       "      <td>germn servidio</td>\n",
       "      <td>daro grandinetti mara marull mnica villa</td>\n",
       "      <td>anthology film suicide by airplane crash reven...</td>\n",
       "      <td>122</td>\n",
       "      <td>Comedy</td>\n",
       "      <td>-2014</td>\n",
       "      <td>172423</td>\n",
       "    </tr>\n",
       "    <tr>\n",
       "      <th>1</th>\n",
       "      <td>1</td>\n",
       "      <td>winter sleep</td>\n",
       "      <td>8.1</td>\n",
       "      <td>nuri bilge ceylan</td>\n",
       "      <td>ebru ceylan nuri bilge ceylan</td>\n",
       "      <td>haluk bilginer melisa szen demet akbag</td>\n",
       "      <td>throwing a stone at a car husband wife relatio...</td>\n",
       "      <td>196</td>\n",
       "      <td>Drama</td>\n",
       "      <td>-2014</td>\n",
       "      <td>44405</td>\n",
       "    </tr>\n",
       "    <tr>\n",
       "      <th>2</th>\n",
       "      <td>2</td>\n",
       "      <td>baahubali the beginning</td>\n",
       "      <td>8.1</td>\n",
       "      <td>ss rajamouli</td>\n",
       "      <td>vijayendra prasad</td>\n",
       "      <td>prabhas rana daggubati ramya krishnan</td>\n",
       "      <td>india kingdom dual role hindu good versus evil</td>\n",
       "      <td>159</td>\n",
       "      <td>Action</td>\n",
       "      <td>-2015</td>\n",
       "      <td>100816</td>\n",
       "    </tr>\n",
       "    <tr>\n",
       "      <th>3</th>\n",
       "      <td>3</td>\n",
       "      <td>gully boy</td>\n",
       "      <td>8.1</td>\n",
       "      <td>zoya akhtar</td>\n",
       "      <td>zoya akhtar reema kagti</td>\n",
       "      <td>vijay varma nakul roshan sahdev ranveer singh</td>\n",
       "      <td>rapper singer success love friendship</td>\n",
       "      <td>153</td>\n",
       "      <td>Drama</td>\n",
       "      <td>-2019</td>\n",
       "      <td>30297</td>\n",
       "    </tr>\n",
       "    <tr>\n",
       "      <th>4</th>\n",
       "      <td>4</td>\n",
       "      <td>pk</td>\n",
       "      <td>8.1</td>\n",
       "      <td>rajkumar hirani</td>\n",
       "      <td>rajkumar hirani abhijat joshi</td>\n",
       "      <td>aamir khan anushka sharma sanjay dutt</td>\n",
       "      <td>religion tv reporter alien on earth papadum mu...</td>\n",
       "      <td>153</td>\n",
       "      <td>Comedy</td>\n",
       "      <td>-2014</td>\n",
       "      <td>158678</td>\n",
       "    </tr>\n",
       "  </tbody>\n",
       "</table>\n",
       "</div>"
      ],
      "text/plain": [
       "   Id                     Title  Rating            Director  \\\n",
       "0   0               wild tales      8.1       damin szifron   \n",
       "1   1             winter sleep      8.1   nuri bilge ceylan   \n",
       "2   2  baahubali the beginning      8.1        ss rajamouli   \n",
       "3   3                gully boy      8.1         zoya akhtar   \n",
       "4   4                       pk      8.1     rajkumar hirani   \n",
       "\n",
       "                           Writers  \\\n",
       "0                  germn servidio    \n",
       "1   ebru ceylan nuri bilge ceylan    \n",
       "2               vijayendra prasad    \n",
       "3         zoya akhtar reema kagti    \n",
       "4    rajkumar hirani abhijat joshi   \n",
       "\n",
       "                                             Stars  \\\n",
       "0        daro grandinetti mara marull mnica villa    \n",
       "1          haluk bilginer melisa szen demet akbag    \n",
       "2           prabhas rana daggubati ramya krishnan    \n",
       "3   vijay varma nakul roshan sahdev ranveer singh    \n",
       "4           aamir khan anushka sharma sanjay dutt    \n",
       "\n",
       "                                            Keywords  Movie_Duration   Genre  \\\n",
       "0  anthology film suicide by airplane crash reven...             122  Comedy   \n",
       "1  throwing a stone at a car husband wife relatio...             196   Drama   \n",
       "2     india kingdom dual role hindu good versus evil             159  Action   \n",
       "3              rapper singer success love friendship             153   Drama   \n",
       "4  religion tv reporter alien on earth papadum mu...             153  Comedy   \n",
       "\n",
       "   Release_Year  Num_of_ratings  \n",
       "0         -2014          172423  \n",
       "1         -2014           44405  \n",
       "2         -2015          100816  \n",
       "3         -2019           30297  \n",
       "4         -2014          158678  "
      ]
     },
     "execution_count": 18,
     "metadata": {},
     "output_type": "execute_result"
    }
   ],
   "source": [
    "df_cleaned.head()"
   ]
  },
  {
   "cell_type": "markdown",
   "metadata": {
    "papermill": {
     "duration": 0.053828,
     "end_time": "2020-10-23T10:21:58.680019",
     "exception": false,
     "start_time": "2020-10-23T10:21:58.626191",
     "status": "completed"
    },
    "tags": []
   },
   "source": [
    "# <span style=\"color:DarkCyan\">**<a id='Features'>Features</a>**<span>"
   ]
  },
  {
   "cell_type": "markdown",
   "metadata": {
    "papermill": {
     "duration": 0.051706,
     "end_time": "2020-10-23T10:21:58.785093",
     "exception": false,
     "start_time": "2020-10-23T10:21:58.733387",
     "status": "completed"
    },
    "tags": []
   },
   "source": [
    "For the features of the model I will use: \"Title\", \"Director\", \"Writers\", \"Stars\", \"Keywords\", \"Genre\" columns."
   ]
  },
  {
   "cell_type": "code",
   "execution_count": 19,
   "metadata": {
    "execution": {
     "iopub.execute_input": "2020-10-23T10:21:58.896562Z",
     "iopub.status.busy": "2020-10-23T10:21:58.895772Z",
     "iopub.status.idle": "2020-10-23T10:21:58.900589Z",
     "shell.execute_reply": "2020-10-23T10:21:58.899875Z"
    },
    "papermill": {
     "duration": 0.063984,
     "end_time": "2020-10-23T10:21:58.900754",
     "exception": false,
     "start_time": "2020-10-23T10:21:58.836770",
     "status": "completed"
    },
    "tags": []
   },
   "outputs": [],
   "source": [
    "features = [\"Title\", \"Director\", \"Writers\", \"Stars\", \"Keywords\", \"Genre\"]"
   ]
  },
  {
   "cell_type": "markdown",
   "metadata": {
    "papermill": {
     "duration": 0.055677,
     "end_time": "2020-10-23T10:21:59.012017",
     "exception": false,
     "start_time": "2020-10-23T10:21:58.956340",
     "status": "completed"
    },
    "tags": []
   },
   "source": [
    "Our next task is to create a function for combining the values of these columns into a single string."
   ]
  },
  {
   "cell_type": "code",
   "execution_count": 20,
   "metadata": {
    "execution": {
     "iopub.execute_input": "2020-10-23T10:21:59.130259Z",
     "iopub.status.busy": "2020-10-23T10:21:59.129255Z",
     "iopub.status.idle": "2020-10-23T10:21:59.133056Z",
     "shell.execute_reply": "2020-10-23T10:21:59.132238Z"
    },
    "papermill": {
     "duration": 0.066353,
     "end_time": "2020-10-23T10:21:59.133192",
     "exception": false,
     "start_time": "2020-10-23T10:21:59.066839",
     "status": "completed"
    },
    "tags": []
   },
   "outputs": [],
   "source": [
    "def combine_features(features):\n",
    "    features_combined = []\n",
    "    for i in range(features.shape[0]):\n",
    "        features_combined.append(features[\"Director\"][i] + \" \" +\n",
    "                                 features[\"Writers\"][i] + \" \" +\n",
    "                                 features[\"Stars\"][i] + \" \" +\n",
    "                                 features[\"Keywords\"][i] + \" \" +\n",
    "                                 features[\"Genre\"][i].lower())\n",
    "\n",
    "    return features_combined"
   ]
  },
  {
   "cell_type": "code",
   "execution_count": 21,
   "metadata": {
    "execution": {
     "iopub.execute_input": "2020-10-23T10:21:59.259018Z",
     "iopub.status.busy": "2020-10-23T10:21:59.253918Z",
     "iopub.status.idle": "2020-10-23T10:21:59.323116Z",
     "shell.execute_reply": "2020-10-23T10:21:59.322402Z"
    },
    "papermill": {
     "duration": 0.135365,
     "end_time": "2020-10-23T10:21:59.323259",
     "exception": false,
     "start_time": "2020-10-23T10:21:59.187894",
     "status": "completed"
    },
    "tags": []
   },
   "outputs": [
    {
     "data": {
      "text/html": [
       "<div>\n",
       "<style scoped>\n",
       "    .dataframe tbody tr th:only-of-type {\n",
       "        vertical-align: middle;\n",
       "    }\n",
       "\n",
       "    .dataframe tbody tr th {\n",
       "        vertical-align: top;\n",
       "    }\n",
       "\n",
       "    .dataframe thead th {\n",
       "        text-align: right;\n",
       "    }\n",
       "</style>\n",
       "<table border=\"1\" class=\"dataframe\">\n",
       "  <thead>\n",
       "    <tr style=\"text-align: right;\">\n",
       "      <th></th>\n",
       "      <th>Id</th>\n",
       "      <th>Title</th>\n",
       "      <th>Rating</th>\n",
       "      <th>Director</th>\n",
       "      <th>Writers</th>\n",
       "      <th>Stars</th>\n",
       "      <th>Keywords</th>\n",
       "      <th>Movie_Duration</th>\n",
       "      <th>Genre</th>\n",
       "      <th>Release_Year</th>\n",
       "      <th>Num_of_ratings</th>\n",
       "      <th>features</th>\n",
       "    </tr>\n",
       "  </thead>\n",
       "  <tbody>\n",
       "    <tr>\n",
       "      <th>0</th>\n",
       "      <td>0</td>\n",
       "      <td>wild tales</td>\n",
       "      <td>8.1</td>\n",
       "      <td>damin szifron</td>\n",
       "      <td>germn servidio</td>\n",
       "      <td>daro grandinetti mara marull mnica villa</td>\n",
       "      <td>anthology film suicide by airplane crash reven...</td>\n",
       "      <td>122</td>\n",
       "      <td>Comedy</td>\n",
       "      <td>-2014</td>\n",
       "      <td>172423</td>\n",
       "      <td>damin szifron  germn servidio   daro grandine...</td>\n",
       "    </tr>\n",
       "    <tr>\n",
       "      <th>1</th>\n",
       "      <td>1</td>\n",
       "      <td>winter sleep</td>\n",
       "      <td>8.1</td>\n",
       "      <td>nuri bilge ceylan</td>\n",
       "      <td>ebru ceylan nuri bilge ceylan</td>\n",
       "      <td>haluk bilginer melisa szen demet akbag</td>\n",
       "      <td>throwing a stone at a car husband wife relatio...</td>\n",
       "      <td>196</td>\n",
       "      <td>Drama</td>\n",
       "      <td>-2014</td>\n",
       "      <td>44405</td>\n",
       "      <td>nuri bilge ceylan  ebru ceylan nuri bilge cey...</td>\n",
       "    </tr>\n",
       "    <tr>\n",
       "      <th>2</th>\n",
       "      <td>2</td>\n",
       "      <td>baahubali the beginning</td>\n",
       "      <td>8.1</td>\n",
       "      <td>ss rajamouli</td>\n",
       "      <td>vijayendra prasad</td>\n",
       "      <td>prabhas rana daggubati ramya krishnan</td>\n",
       "      <td>india kingdom dual role hindu good versus evil</td>\n",
       "      <td>159</td>\n",
       "      <td>Action</td>\n",
       "      <td>-2015</td>\n",
       "      <td>100816</td>\n",
       "      <td>ss rajamouli  vijayendra prasad   prabhas ran...</td>\n",
       "    </tr>\n",
       "  </tbody>\n",
       "</table>\n",
       "</div>"
      ],
      "text/plain": [
       "   Id                     Title  Rating            Director  \\\n",
       "0   0               wild tales      8.1       damin szifron   \n",
       "1   1             winter sleep      8.1   nuri bilge ceylan   \n",
       "2   2  baahubali the beginning      8.1        ss rajamouli   \n",
       "\n",
       "                           Writers  \\\n",
       "0                  germn servidio    \n",
       "1   ebru ceylan nuri bilge ceylan    \n",
       "2               vijayendra prasad    \n",
       "\n",
       "                                        Stars  \\\n",
       "0   daro grandinetti mara marull mnica villa    \n",
       "1     haluk bilginer melisa szen demet akbag    \n",
       "2      prabhas rana daggubati ramya krishnan    \n",
       "\n",
       "                                            Keywords  Movie_Duration   Genre  \\\n",
       "0  anthology film suicide by airplane crash reven...             122  Comedy   \n",
       "1  throwing a stone at a car husband wife relatio...             196   Drama   \n",
       "2     india kingdom dual role hindu good versus evil             159  Action   \n",
       "\n",
       "   Release_Year  Num_of_ratings  \\\n",
       "0         -2014          172423   \n",
       "1         -2014           44405   \n",
       "2         -2015          100816   \n",
       "\n",
       "                                            features  \n",
       "0   damin szifron  germn servidio   daro grandine...  \n",
       "1   nuri bilge ceylan  ebru ceylan nuri bilge cey...  \n",
       "2   ss rajamouli  vijayendra prasad   prabhas ran...  "
      ]
     },
     "execution_count": 21,
     "metadata": {},
     "output_type": "execute_result"
    }
   ],
   "source": [
    "df_cleaned[\"features\"] = combine_features(df_cleaned)\n",
    "df_cleaned.head(3)"
   ]
  },
  {
   "cell_type": "markdown",
   "metadata": {
    "papermill": {
     "duration": 0.052396,
     "end_time": "2020-10-23T10:21:59.429568",
     "exception": false,
     "start_time": "2020-10-23T10:21:59.377172",
     "status": "completed"
    },
    "tags": []
   },
   "source": [
    "Now that we have obtained the combined strings, we can now feed these strings to a CountVectorizer() object for getting the count matrix."
   ]
  },
  {
   "cell_type": "code",
   "execution_count": 22,
   "metadata": {
    "execution": {
     "iopub.execute_input": "2020-10-23T10:21:59.562232Z",
     "iopub.status.busy": "2020-10-23T10:21:59.556996Z",
     "iopub.status.idle": "2020-10-23T10:21:59.598173Z",
     "shell.execute_reply": "2020-10-23T10:21:59.597345Z"
    },
    "papermill": {
     "duration": 0.114192,
     "end_time": "2020-10-23T10:21:59.598305",
     "exception": false,
     "start_time": "2020-10-23T10:21:59.484113",
     "status": "completed"
    },
    "tags": []
   },
   "outputs": [],
   "source": [
    "cv = CountVectorizer()\n",
    "vectorized = cv.fit_transform(df_cleaned[\"features\"])"
   ]
  },
  {
   "cell_type": "markdown",
   "metadata": {
    "papermill": {
     "duration": 0.055216,
     "end_time": "2020-10-23T10:21:59.707769",
     "exception": false,
     "start_time": "2020-10-23T10:21:59.652553",
     "status": "completed"
    },
    "tags": []
   },
   "source": [
    "Now, we need to obtain the cosine similarity matrix from the count matrix."
   ]
  },
  {
   "cell_type": "code",
   "execution_count": 23,
   "metadata": {
    "execution": {
     "iopub.execute_input": "2020-10-23T10:21:59.825562Z",
     "iopub.status.busy": "2020-10-23T10:21:59.824708Z",
     "iopub.status.idle": "2020-10-23T10:21:59.851064Z",
     "shell.execute_reply": "2020-10-23T10:21:59.849855Z"
    },
    "papermill": {
     "duration": 0.088168,
     "end_time": "2020-10-23T10:21:59.851289",
     "exception": false,
     "start_time": "2020-10-23T10:21:59.763121",
     "status": "completed"
    },
    "tags": []
   },
   "outputs": [
    {
     "name": "stdout",
     "output_type": "stream",
     "text": [
      "[[1.         0.03338903 0.         ... 0.         0.         0.        ]\n",
      " [0.03338903 1.         0.         ... 0.03580574 0.         0.        ]\n",
      " [0.         0.         1.         ... 0.         0.0410305  0.        ]\n",
      " ...\n",
      " [0.         0.03580574 0.         ... 1.         0.         0.2       ]\n",
      " [0.         0.         0.0410305  ... 0.         1.         0.03892495]\n",
      " [0.         0.         0.         ... 0.2        0.03892495 1.        ]]\n",
      "(798, 798)\n"
     ]
    }
   ],
   "source": [
    "cs = cosine_similarity(vectorized)\n",
    "print(cs)\n",
    "print(cs.shape)"
   ]
  },
  {
   "cell_type": "markdown",
   "metadata": {
    "papermill": {
     "duration": 0.052905,
     "end_time": "2020-10-23T10:21:59.960698",
     "exception": false,
     "start_time": "2020-10-23T10:21:59.907793",
     "status": "completed"
    },
    "tags": []
   },
   "source": [
    "Now let's take user's choice of movie and find it's Id."
   ]
  },
  {
   "cell_type": "code",
   "execution_count": 24,
   "metadata": {
    "execution": {
     "iopub.execute_input": "2020-10-23T10:22:00.079293Z",
     "iopub.status.busy": "2020-10-23T10:22:00.078536Z",
     "iopub.status.idle": "2020-10-23T10:22:00.082251Z",
     "shell.execute_reply": "2020-10-23T10:22:00.081500Z"
    },
    "papermill": {
     "duration": 0.066867,
     "end_time": "2020-10-23T10:22:00.082377",
     "exception": false,
     "start_time": "2020-10-23T10:22:00.015510",
     "status": "completed"
    },
    "tags": []
   },
   "outputs": [],
   "source": [
    "movie_title = \"the godfather \" # User's choice of move - can be any movie from df\n",
    "\n",
    "movie_id = df_cleaned[df_cleaned[\"Title\"] == movie_title][\"Id\"].values[0] # finding Id of movie"
   ]
  },
  {
   "cell_type": "markdown",
   "metadata": {
    "papermill": {
     "duration": 0.053086,
     "end_time": "2020-10-23T10:22:00.190622",
     "exception": false,
     "start_time": "2020-10-23T10:22:00.137536",
     "status": "completed"
    },
    "tags": []
   },
   "source": [
    "Now we will access the row corresponding to this movie Id in the similarity matrix. \n",
    "\n",
    "We will get the similarity scores of all other movies from the current movie. Then we will enumerate through all the similarity scores of that movie to make a tuple of movie index and similarity score."
   ]
  },
  {
   "cell_type": "code",
   "execution_count": 25,
   "metadata": {
    "execution": {
     "iopub.execute_input": "2020-10-23T10:22:00.307148Z",
     "iopub.status.busy": "2020-10-23T10:22:00.306165Z",
     "iopub.status.idle": "2020-10-23T10:22:00.309004Z",
     "shell.execute_reply": "2020-10-23T10:22:00.309600Z"
    },
    "papermill": {
     "duration": 0.064779,
     "end_time": "2020-10-23T10:22:00.309796",
     "exception": false,
     "start_time": "2020-10-23T10:22:00.245017",
     "status": "completed"
    },
    "tags": []
   },
   "outputs": [],
   "source": [
    "scores = list(enumerate(cs[movie_id]))\n",
    "sorted_scores = sorted(scores,key = lambda x: x[1], reverse=True)"
   ]
  },
  {
   "cell_type": "markdown",
   "metadata": {
    "papermill": {
     "duration": 0.055293,
     "end_time": "2020-10-23T10:22:00.419662",
     "exception": false,
     "start_time": "2020-10-23T10:22:00.364369",
     "status": "completed"
    },
    "tags": []
   },
   "source": [
    "Our work is basically done. Now, let's just take Id of 5 most similar movies from our sorted_scores. Remember, first movie is the movie of user's choice, so we will take 6 movies and ignore first one."
   ]
  },
  {
   "cell_type": "code",
   "execution_count": 26,
   "metadata": {
    "execution": {
     "iopub.execute_input": "2020-10-23T10:22:00.545204Z",
     "iopub.status.busy": "2020-10-23T10:22:00.544030Z",
     "iopub.status.idle": "2020-10-23T10:22:00.547892Z",
     "shell.execute_reply": "2020-10-23T10:22:00.547108Z"
    },
    "papermill": {
     "duration": 0.0723,
     "end_time": "2020-10-23T10:22:00.548023",
     "exception": false,
     "start_time": "2020-10-23T10:22:00.475723",
     "status": "completed"
    },
    "tags": []
   },
   "outputs": [],
   "source": [
    "counter = 0\n",
    "similar_movies = []\n",
    "for i in sorted_scores:\n",
    "    similar_movie = df_cleaned[df_cleaned[\"Id\"] == i[0]][\"Id\"].values[0]\n",
    "    similar_movies.append(similar_movie)\n",
    "    counter+=1\n",
    "    if(counter == 6):\n",
    "        break"
   ]
  },
  {
   "cell_type": "markdown",
   "metadata": {
    "papermill": {
     "duration": 0.055869,
     "end_time": "2020-10-23T10:22:00.657489",
     "exception": false,
     "start_time": "2020-10-23T10:22:00.601620",
     "status": "completed"
    },
    "tags": []
   },
   "source": [
    "Now, we have Id's of similar movies. Let's just take more informations about those movies from our DataFrame and print it to user."
   ]
  },
  {
   "cell_type": "code",
   "execution_count": 27,
   "metadata": {
    "execution": {
     "iopub.execute_input": "2020-10-23T10:22:00.796376Z",
     "iopub.status.busy": "2020-10-23T10:22:00.777454Z",
     "iopub.status.idle": "2020-10-23T10:22:00.801962Z",
     "shell.execute_reply": "2020-10-23T10:22:00.800997Z"
    },
    "papermill": {
     "duration": 0.089461,
     "end_time": "2020-10-23T10:22:00.802110",
     "exception": false,
     "start_time": "2020-10-23T10:22:00.712649",
     "status": "completed"
    },
    "tags": []
   },
   "outputs": [
    {
     "name": "stdout",
     "output_type": "stream",
     "text": [
      "Similar movies to the movie 'the godfather ' are: \n",
      "1)Title:the godfather part iii  | Genre:Crime | Year:-1990 | Rating: 7.6 \n",
      "2)Title:the godfather part ii  | Genre:Crime | Year:-1974 | Rating: 9.0\n",
      "3)Title:the departed  | Genre:Crime | Year:-2006 | Rating: 8.5\n",
      "4)Title:lucky number slevin  | Genre:Crime | Year:-2006 | Rating: 7.7\n",
      "5)Title:heat  | Genre:Crime | Year:-1995 | Rating: 8.2\n"
     ]
    }
   ],
   "source": [
    "similar_movies_expanded = []\n",
    "for id in similar_movies:\n",
    "    movie_to_append = df_cleaned[df_cleaned[\"Id\"] == id][[\"Title\",\"Genre\",\"Release_Year\",\"Rating\"]].values[0]\n",
    "    similar_movies_expanded.append(movie_to_append)\n",
    "    \n",
    "print(\"Similar movies to the movie '{}' are: \"\n",
    "      \"\\n1)Title:{} | Genre:{} | Year:{} | Rating: {} \"\n",
    "      \"\\n2)Title:{} | Genre:{} | Year:{} | Rating: {}\"\n",
    "      \"\\n3)Title:{} | Genre:{} | Year:{} | Rating: {}\"\n",
    "      \"\\n4)Title:{} | Genre:{} | Year:{} | Rating: {}\"\n",
    "      \"\\n5)Title:{} | Genre:{} | Year:{} | Rating: {}\".format(movie_title,\n",
    "          similar_movies_expanded[1][0], similar_movies_expanded[1][1], similar_movies_expanded[1][2], similar_movies_expanded[1][3],\n",
    "          similar_movies_expanded[2][0], similar_movies_expanded[2][1], similar_movies_expanded[2][2], similar_movies_expanded[2][3],\n",
    "          similar_movies_expanded[3][0], similar_movies_expanded[3][1], similar_movies_expanded[3][2], similar_movies_expanded[3][3],\n",
    "          similar_movies_expanded[4][0], similar_movies_expanded[4][1], similar_movies_expanded[4][2], similar_movies_expanded[4][3],\n",
    "          similar_movies_expanded[5][0], similar_movies_expanded[5][1], similar_movies_expanded[5][2], similar_movies_expanded[5][3],\n",
    "      ))"
   ]
  },
  {
   "cell_type": "markdown",
   "metadata": {
    "papermill": {
     "duration": 0.054544,
     "end_time": "2020-10-23T10:22:00.916156",
     "exception": false,
     "start_time": "2020-10-23T10:22:00.861612",
     "status": "completed"
    },
    "tags": []
   },
   "source": [
    "**As you can see the name of the entered movie is \"Godfather\" and the two most similar movies to Godfather are Godfather Part 3 and Godfather Part 2. That makes sense because the movie is from the same director, similar actors, same genre and very similar keywords.**"
   ]
  },
  {
   "cell_type": "markdown",
   "metadata": {
    "papermill": {
     "duration": 0.055978,
     "end_time": "2020-10-23T10:22:01.031651",
     "exception": false,
     "start_time": "2020-10-23T10:22:00.975673",
     "status": "completed"
    },
    "tags": []
   },
   "source": [
    "# <span style=\"color:DarkCyan\">**<a id='Conclusion'>Conclusion</a>**<span>"
   ]
  },
  {
   "attachments": {
    "Screen%20Shot%202020-10-22%20at%2011.49.59%20PM.png": {
     "image/png": "[encoded data removed]"
    }
   },
   "cell_type": "markdown",
   "metadata": {
    "papermill": {
     "duration": 0.056319,
     "end_time": "2020-10-23T10:22:01.144168",
     "exception": false,
     "start_time": "2020-10-23T10:22:01.087849",
     "status": "completed"
    },
    "tags": []
   },
   "source": [
    "![Screen%20Shot%202020-10-22%20at%2011.49.59%20PM.png](attachment:Screen%20Shot%202020-10-22%20at%2011.49.59%20PM.png)"
   ]
  },
  {
   "cell_type": "markdown",
   "metadata": {
    "papermill": {
     "duration": 0.058591,
     "end_time": "2020-10-23T10:22:01.260170",
     "exception": false,
     "start_time": "2020-10-23T10:22:01.201579",
     "status": "completed"
    },
    "tags": []
   },
   "source": [
    "So, I searched Google for similar movies to “Godfather” and here is what I got.\n",
    "\n",
    "Output is very similar to our model recommendations. In our DataFrame there are no movies such as Scarface and Goodfellas, so that's the reason why we didn't get those two.\n",
    "\n",
    "There can be further improvments with many other factors such as:\n",
    "* other members with similar tastes and preferences on specific streaming service  \n",
    "* user's interaction with streaming's service (history, how user rated other titles,...) \n",
    "\n",
    "But, for small DataFrame our model is working very good. :)\n",
    "\n",
    "\n",
    "\n"
   ]
  }
 ],
 "metadata": {
  "kernelspec": {
   "display_name": "Python 3",
   "language": "python",
   "name": "python3"
  },
  "language_info": {
   "codemirror_mode": {
    "name": "ipython",
    "version": 3
   },
   "file_extension": ".py",
   "mimetype": "text/x-python",
   "name": "python",
   "nbconvert_exporter": "python",
   "pygments_lexer": "ipython3",
   "version": "3.7.6"
  },
  "papermill": {
   "duration": 14.198571,
   "end_time": "2020-10-23T10:22:01.425116",
   "environment_variables": {},
   "exception": null,
   "input_path": "__notebook__.ipynb",
   "output_path": "__notebook__.ipynb",
   "parameters": {},
   "start_time": "2020-10-23T10:21:47.226545",
   "version": "2.1.0"
  }
 },
 "nbformat": 4,
 "nbformat_minor": 4
}
